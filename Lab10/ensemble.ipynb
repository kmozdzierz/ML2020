{
 "cells": [
  {
   "cell_type": "markdown",
   "metadata": {},
   "source": [
    "# Machine Learning 2022\n",
    "## Lab. 10 - Ensemble methods\n",
    "### Imię i nazwisko: Kacper Moździerz\n",
    "### Nr albumu: 401733\n",
    "### Data: 24.05.2022\n",
    "\n",
    "### Grupa: wtorek 9:30 - 11:00"
   ]
  },
  {
   "cell_type": "markdown",
   "metadata": {},
   "source": [
    "#### 1.Imports of libs"
   ]
  },
  {
   "cell_type": "code",
   "execution_count": 1,
   "metadata": {},
   "outputs": [],
   "source": [
    "from sklearn.datasets import load_wine\n",
    "from sklearn.model_selection import cross_val_score\n",
    "from sklearn.tree import DecisionTreeClassifier"
   ]
  },
  {
   "cell_type": "markdown",
   "metadata": {},
   "source": [
    "#### 2. Decision Tree Classifier"
   ]
  },
  {
   "cell_type": "code",
   "execution_count": 13,
   "metadata": {},
   "outputs": [
    {
     "name": "stdout",
     "output_type": "stream",
     "text": [
      "DTC scores: [0.94444444 0.80555556 0.80555556 0.91428571 0.97142857], avg_ratio = 0.8882539682539681\n"
     ]
    }
   ],
   "source": [
    "dataset = load_wine()\n",
    "\n",
    "clf = DecisionTreeClassifier(random_state=1, min_samples_leaf=3)\n",
    "\n",
    "DTC_cv = cross_val_score(clf, dataset.data, dataset.target)\n",
    "\n",
    "print(f\"DTC scores: {DTC_cv}, avg_ratio = {DTC_cv.mean()}\")\n"
   ]
  },
  {
   "cell_type": "markdown",
   "metadata": {},
   "source": [
    "#### 3. Bagging Classifier"
   ]
  },
  {
   "cell_type": "code",
   "execution_count": 14,
   "metadata": {},
   "outputs": [
    {
     "name": "stdout",
     "output_type": "stream",
     "text": [
      "BaggingClassifier scores: [0.91666667 0.91666667 0.94444444 0.97142857 1.        ], avg_ratio = 0.9498412698412698\n"
     ]
    }
   ],
   "source": [
    "from sklearn.ensemble import BaggingClassifier\n",
    "\n",
    "clf2 = BaggingClassifier(base_estimator=DecisionTreeClassifier(min_samples_leaf=3),n_estimators=50,random_state=1)\n",
    "\n",
    "BaggingClassifier_cv = cross_val_score(clf2, dataset.data, dataset.target)\n",
    "\n",
    "print(f\"BaggingClassifier scores: {BaggingClassifier_cv}, avg_ratio = {BaggingClassifier_cv.mean()}\")"
   ]
  },
  {
   "cell_type": "markdown",
   "metadata": {},
   "source": [
    "#### 4. AdaBoost Classifier"
   ]
  },
  {
   "cell_type": "code",
   "execution_count": 15,
   "metadata": {},
   "outputs": [
    {
     "name": "stdout",
     "output_type": "stream",
     "text": [
      "AdaBoostClassifier scores: [0.83333333 0.91666667 0.91666667 1.         1.        ], avg_ratio = 0.9333333333333332\n"
     ]
    }
   ],
   "source": [
    "from sklearn.ensemble import AdaBoostClassifier\n",
    "\n",
    "clf3 = AdaBoostClassifier(base_estimator=DecisionTreeClassifier(min_samples_leaf=3,max_depth = 1), \n",
    "                            n_estimators=50, random_state=1, algorithm='SAMME')\n",
    "AdaBoostClassifier_cv = cross_val_score(clf3, dataset.data, dataset.target)\n",
    "\n",
    "print(f\"AdaBoostClassifier scores: {AdaBoostClassifier_cv}, avg_ratio = {AdaBoostClassifier_cv.mean()}\")"
   ]
  },
  {
   "cell_type": "markdown",
   "metadata": {},
   "source": [
    "#### 5. GradientBoosting Classifier"
   ]
  },
  {
   "cell_type": "code",
   "execution_count": 20,
   "metadata": {},
   "outputs": [
    {
     "name": "stdout",
     "output_type": "stream",
     "text": [
      "GradientBoostingClassifier scores: [0.91666667 0.97222222 0.97222222 0.42857143 0.97142857], avg_ratio = 0.8522222222222222\n"
     ]
    }
   ],
   "source": [
    "from sklearn.ensemble import GradientBoostingClassifier\n",
    "\n",
    "clf3 = GradientBoostingClassifier(n_estimators=50, max_depth = 1, random_state=1,min_samples_leaf=3,\n",
    "                                    learning_rate=1.0, subsample=0.5)\n",
    "GradientBoostingClassifier_cv = cross_val_score(clf3, dataset.data, dataset.target)\n",
    "\n",
    "print(f\"GradientBoostingClassifier scores: {GradientBoostingClassifier_cv}, avg_ratio = {GradientBoostingClassifier_cv.mean()}\")\n"
   ]
  },
  {
   "cell_type": "markdown",
   "metadata": {},
   "source": [
    "#### 6. OBB loss plot"
   ]
  },
  {
   "cell_type": "code",
   "execution_count": 46,
   "metadata": {},
   "outputs": [
    {
     "data": {
      "image/png": "[encoded data removed]",
      "text/plain": [
       "<Figure size 432x288 with 1 Axes>"
      ]
     },
     "metadata": {
      "needs_background": "light"
     },
     "output_type": "display_data"
    }
   ],
   "source": [
    "import matplotlib.pyplot as plt\n",
    "import numpy as np\n",
    "GBclf = GradientBoostingClassifier(n_estimators=100, random_state=30,\n",
    "                                 learning_rate=0.1, subsample=0.5, max_depth=1)\n",
    "\n",
    "GBclf.fit(dataset.data, dataset.target)\n",
    "GB_oob = GBclf.oob_improvement_\n",
    "idx = np.where(GB_oob < 1e-5)[0][0]\n",
    "\n",
    "plt.figure()\n",
    "plt.axvline(x=idx, color='r')\n",
    "plt.plot(range(100), np.cumsum(GB_oob))\n",
    "\n",
    "plt.xlabel(\"Number of iterations\")\n",
    "plt.ylabel(\"Score\")\n",
    "plt.xlim([0, 100])\n",
    "plt.show()"
   ]
  }
 ],
 "metadata": {
  "interpreter": {
   "hash": "2c7f184b3ee8100a002547e7d243ffc58b1906d582865c9643e8364f95c21d2f"
  },
  "kernelspec": {
   "display_name": "Python 3.9.4 ('abd_env')",
   "language": "python",
   "name": "python3"
  },
  "language_info": {
   "codemirror_mode": {
    "name": "ipython",
    "version": 3
   },
   "file_extension": ".py",
   "mimetype": "text/x-python",
   "name": "python",
   "nbconvert_exporter": "python",
   "pygments_lexer": "ipython3",
   "version": "3.9.4"
  },
  "orig_nbformat": 4
 },
 "nbformat": 4,
 "nbformat_minor": 2
}
