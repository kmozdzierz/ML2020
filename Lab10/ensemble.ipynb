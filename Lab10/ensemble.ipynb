{
 "cells": [
  {
   "cell_type": "markdown",
   "metadata": {},
   "source": [
    "# Machine Learning 2022\n",
    "## Lab. 10 - Ensemble methods\n",
    "### Imię i nazwisko: Kacper Moździerz\n",
    "### Nr albumu: 401733\n",
    "### Data: 24.05.2022\n",
    "\n",
    "### Grupa: wtorek 9:30 - 11:00"
   ]
  },
  {
   "cell_type": "markdown",
   "metadata": {},
   "source": [
    "#### 1.Imports of libs"
   ]
  },
  {
   "cell_type": "code",
   "execution_count": 2,
   "metadata": {},
   "outputs": [],
   "source": [
    "from sklearn.datasets import load_wine\n",
    "from sklearn.model_selection import cross_val_score\n",
    "from sklearn.tree import DecisionTreeClassifier\n",
    "\n",
    "\n"
   ]
  },
  {
   "cell_type": "code",
   "execution_count": 25,
   "metadata": {},
   "outputs": [
    {
     "name": "stdout",
     "output_type": "stream",
     "text": [
      "DTC scores: [0.94444444 0.80555556 0.80555556 0.91428571 0.97142857], avg_ratio = 0.8882539682539681\n"
     ]
    }
   ],
   "source": [
    "dataset = load_wine()\n",
    "\n",
    "clf = DecisionTreeClassifier(random_state=1, min_samples_leaf=3)\n",
    "\n",
    "DTC_cv = cross_val_score(clf, dataset.data, dataset.target)\n",
    "\n",
    "print(f\"DTC scores: {DTC_cv}, avg_ratio = {DTC_cv.mean()}\")\n",
    "\n"
   ]
  },
  {
   "cell_type": "code",
   "execution_count": null,
   "metadata": {},
   "outputs": [],
   "source": [
    "from sklearn.ensemble import BaggingClassifier\n",
    "\n",
    "\n",
    "clf2 = BaggingClassifier(n_estimators=100, )"
   ]
  }
 ],
 "metadata": {
  "interpreter": {
   "hash": "d49c3f6d6dd49f9272b571d9fad348ab55b8c6c3f691520d74ed0af1f69c3dd8"
  },
  "kernelspec": {
   "display_name": "Python 3.7.9 64-bit",
   "language": "python",
   "name": "python3"
  },
  "language_info": {
   "codemirror_mode": {
    "name": "ipython",
    "version": 3
   },
   "file_extension": ".py",
   "mimetype": "text/x-python",
   "name": "python",
   "nbconvert_exporter": "python",
   "pygments_lexer": "ipython3",
   "version": "3.7.9"
  },
  "orig_nbformat": 4
 },
 "nbformat": 4,
 "nbformat_minor": 2
}
