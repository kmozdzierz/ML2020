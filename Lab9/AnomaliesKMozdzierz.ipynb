{
 "cells": [
  {
   "cell_type": "markdown",
   "metadata": {},
   "source": [
    "# Machine Learning 2022\n",
    "## Lab. 8 - Anomaly detection\n",
    "### Imię i nazwisko: Kacper Moździerz\n",
    "### Nr albumu: 401733\n",
    "### Data: 10.05.2022\n",
    "\n",
    "### Grupa: wtorek 9:30 - 11:00"
   ]
  },
  {
   "cell_type": "markdown",
   "metadata": {},
   "source": [
    "#### 1.Loading data"
   ]
  },
  {
   "cell_type": "code",
   "execution_count": 6,
   "metadata": {},
   "outputs": [
    {
     "data": {
      "text/plain": [
       "(307, 2)"
      ]
     },
     "execution_count": 6,
     "metadata": {},
     "output_type": "execute_result"
    }
   ],
   "source": [
    "import numpy as np  \n",
    "import pandas as pd  \n",
    "import matplotlib.pyplot as plt  \n",
    "from scipy.io import loadmat  \n",
    " \n",
    " \n",
    "data = loadmat('ex8data1.mat')  \n",
    "X = data['X']   \n",
    "X.shape"
   ]
  },
  {
   "cell_type": "markdown",
   "metadata": {},
   "source": [
    "#### 2.Data visualization"
   ]
  },
  {
   "cell_type": "code",
   "execution_count": 7,
   "metadata": {},
   "outputs": [
    {
     "data": {
      "image/png": "[encoded data removed]",
      "text/plain": [
       "<Figure size 432x288 with 1 Axes>"
      ]
     },
     "metadata": {
      "needs_background": "light"
     },
     "output_type": "display_data"
    }
   ],
   "source": [
    "plt.scatter(X[:,0], X[:,1])\n",
    "plt.title(\"Dataset scatter plot\")\n",
    "plt.show()\n"
   ]
  },
  {
   "cell_type": "markdown",
   "metadata": {},
   "source": [
    "#### 3. Histograms"
   ]
  },
  {
   "cell_type": "code",
   "execution_count": 8,
   "metadata": {},
   "outputs": [
    {
     "data": {
      "image/png": "[encoded data removed]",
      "text/plain": [
       "<Figure size 432x288 with 1 Axes>"
      ]
     },
     "metadata": {
      "needs_background": "light"
     },
     "output_type": "display_data"
    },
    {
     "data": {
      "image/png": "[encoded data removed]",
      "text/plain": [
       "<Figure size 432x288 with 1 Axes>"
      ]
     },
     "metadata": {
      "needs_background": "light"
     },
     "output_type": "display_data"
    }
   ],
   "source": [
    "plt.figure()\n",
    "plt.title(\"Histogram for throughput (mb/s)\")\n",
    "plt.hist(X[:,0])\n",
    "plt.show()\n",
    "plt.figure()\n",
    "plt.title(\"Histogram for latency ms\")\n",
    "plt.hist(X[:,1])\n",
    "plt.show()"
   ]
  },
  {
   "cell_type": "markdown",
   "metadata": {},
   "source": [
    "We can assume that analyzed data don't need to by scaled"
   ]
  },
  {
   "cell_type": "markdown",
   "metadata": {},
   "source": [
    "#### 4. Gaussian distribution"
   ]
  },
  {
   "cell_type": "code",
   "execution_count": 9,
   "metadata": {},
   "outputs": [
    {
     "name": "stdout",
     "output_type": "stream",
     "text": [
      "Estimated gaussian parameters for throughput: (14.112225783945592, 1.353747174879607)\n",
      "Estimated gaussian parameters for latency: (14.99771050813621, 1.3075723042450764)\n"
     ]
    }
   ],
   "source": [
    "def estimate_gaussian(X):\n",
    "\n",
    "    sigma = np.std(X)\n",
    "    mu = np.mean(X)\n",
    "\n",
    "    return mu, sigma\n",
    "\n",
    "\n",
    "print(f\"Estimated gaussian parameters for throughput: {estimate_gaussian(X[:,0])}\")\n",
    "print(f\"Estimated gaussian parameters for latency: {estimate_gaussian(X[:,1])}\")"
   ]
  },
  {
   "cell_type": "markdown",
   "metadata": {},
   "source": [
    "#### 5. Calculate probability\n"
   ]
  },
  {
   "cell_type": "code",
   "execution_count": 10,
   "metadata": {},
   "outputs": [],
   "source": [
    "Xval = data['Xval']  \n",
    "yval = data['yval']"
   ]
  },
  {
   "cell_type": "code",
   "execution_count": 11,
   "metadata": {},
   "outputs": [
    {
     "data": {
      "text/plain": [
       "array([0.21620977, 0.25745208, 0.29413223, 0.24721192, 0.27251547,\n",
       "       0.2918119 , 0.18713958, 0.15117648, 0.09356331, 0.166609  ,\n",
       "       0.29338708, 0.29448769, 0.25559237, 0.25595621, 0.2932714 ,\n",
       "       0.2944456 , 0.29288017, 0.28518331, 0.27727759, 0.09489765,\n",
       "       0.27027271, 0.29342161, 0.24110555, 0.29304288, 0.19607729,\n",
       "       0.15652979, 0.27590459, 0.25749622, 0.27667047, 0.2834953 ,\n",
       "       0.17068283, 0.29318613, 0.20432637, 0.19577297, 0.10897052,\n",
       "       0.24595126, 0.14063746, 0.29463374, 0.28052751, 0.29371857,\n",
       "       0.28168158, 0.22524293, 0.28218942, 0.29429662, 0.26674962,\n",
       "       0.28856013, 0.11137104, 0.29467721, 0.28904196, 0.18556585])"
      ]
     },
     "execution_count": 11,
     "metadata": {},
     "output_type": "execute_result"
    }
   ],
   "source": [
    "from scipy import stats\n",
    "\n",
    "mu1, sigma1 = estimate_gaussian(X[:,0])\n",
    "mu2, sigma2 = estimate_gaussian(X[:,1])\n",
    "\n",
    "stats.norm.pdf(X[0:50,0],mu1,sigma1)"
   ]
  },
  {
   "cell_type": "code",
   "execution_count": 12,
   "metadata": {},
   "outputs": [
    {
     "data": {
      "text/plain": [
       "array([0.10024482, 0.1457768 , 0.2528107 , 0.30448732, 0.16903845,\n",
       "       0.21756518, 0.07643788, 0.26665451, 0.20512585, 0.0622584 ,\n",
       "       0.22598194, 0.23611076, 0.14325919, 0.14374689, 0.22523921,\n",
       "       0.24945533, 0.22291698, 0.28027594, 0.29025968, 0.02506057,\n",
       "       0.16517238, 0.22620962, 0.3050326 , 0.25973477, 0.29516159,\n",
       "       0.27092849, 0.17525126, 0.30215305, 0.29084495, 0.28286926,\n",
       "       0.28109791, 0.22470976, 0.08990657, 0.08300238, 0.22451675,\n",
       "       0.30464676, 0.04678789, 0.23909217, 0.28675261, 0.25593038,\n",
       "       0.28533142, 0.10877075, 0.28467192, 0.25122693, 0.29812758,\n",
       "       0.20540556, 0.22733301, 0.24443463, 0.2069744 , 0.29000605])"
      ]
     },
     "execution_count": 12,
     "metadata": {},
     "output_type": "execute_result"
    }
   ],
   "source": [
    "stats.norm.pdf(X[0:50,0],mu2,sigma2)"
   ]
  },
  {
   "cell_type": "code",
   "execution_count": 13,
   "metadata": {},
   "outputs": [],
   "source": [
    "pval = np.zeros((Xval.shape[0], Xval.shape[1]))  \n",
    "pval[:,0] = stats.norm.pdf(Xval[:,0],mu1,sigma1)\n",
    "pval[:,1] = stats.norm.pdf(Xval[:,1],mu2,sigma2)"
   ]
  },
  {
   "cell_type": "markdown",
   "metadata": {},
   "source": [
    "#### 6. Selecting the threshold"
   ]
  },
  {
   "cell_type": "code",
   "execution_count": 19,
   "metadata": {},
   "outputs": [],
   "source": [
    "from sklearn.metrics import f1_score\n",
    "\n",
    "def select_threshold(pval, yval): \n",
    "\n",
    "    iter = np.linspace(pval.min(),pval.max(),10000)\n",
    "    best_f1 = -np.inf\n",
    "    best_epsilon = 0\n",
    "    for eps in iter:\n",
    "        y_pred = np.array((pval[:, 0] < eps) | (pval[:, 1] < eps), dtype=int)\n",
    "        if f1_score(yval, y_pred) > best_f1:\n",
    "            best_f1 = f1_score(yval, y_pred)\n",
    "            best_epsilon = eps\n",
    "    return best_epsilon, best_f1"
   ]
  },
  {
   "cell_type": "code",
   "execution_count": 23,
   "metadata": {},
   "outputs": [
    {
     "name": "stdout",
     "output_type": "stream",
     "text": [
      "Best epsilon: 0.000397\n",
      "Best F1 Score: 0.875000\n"
     ]
    }
   ],
   "source": [
    "best_epsilon, best_f1 = select_threshold(pval, yval)\n",
    "print(f\"Best epsilon: {best_epsilon:.6f}\\nBest F1 Score: {best_f1:.6f}\")"
   ]
  },
  {
   "cell_type": "markdown",
   "metadata": {},
   "source": [
    "#### 7. Detecting anomalies"
   ]
  },
  {
   "cell_type": "code",
   "execution_count": 33,
   "metadata": {},
   "outputs": [
    {
     "data": {
      "image/png": "[encoded data removed]",
      "text/plain": [
       "<Figure size 432x288 with 1 Axes>"
      ]
     },
     "metadata": {
      "needs_background": "light"
     },
     "output_type": "display_data"
    }
   ],
   "source": [
    "p = np.zeros((X.shape[0], X.shape[1]))  \n",
    "p[:,0] = stats.norm.pdf(X[:,0],mu1,sigma1)\n",
    "p[:,1] = stats.norm.pdf(X[:,1],mu2,sigma2)\n",
    "\n",
    "index = np.where((p[:, 0] < best_epsilon) | (p[:, 1] < best_epsilon))\n",
    "anomalies = X[index]\n",
    "\n",
    "\n",
    "plt.figure()\n",
    "plt.scatter(X[:, 0], X[:, 1], c='b')\n",
    "plt.scatter(anomalies[:, 0], anomalies[:, 1], c='r',label= \"Anomalies\")\n",
    "plt.legend()\n",
    "plt.title(\"Anomalies detection result\")\n",
    "plt.show()"
   ]
  }
 ],
 "metadata": {
  "interpreter": {
   "hash": "2c7f184b3ee8100a002547e7d243ffc58b1906d582865c9643e8364f95c21d2f"
  },
  "kernelspec": {
   "display_name": "Python 3.9.4 ('abd_env')",
   "language": "python",
   "name": "python3"
  },
  "language_info": {
   "codemirror_mode": {
    "name": "ipython",
    "version": 3
   },
   "file_extension": ".py",
   "mimetype": "text/x-python",
   "name": "python",
   "nbconvert_exporter": "python",
   "pygments_lexer": "ipython3",
   "version": "3.9.4"
  },
  "orig_nbformat": 4
 },
 "nbformat": 4,
 "nbformat_minor": 2
}
